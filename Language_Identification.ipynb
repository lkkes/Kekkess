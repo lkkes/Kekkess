{
  "nbformat": 4,
  "nbformat_minor": 0,
  "metadata": {
    "colab": {
      "provenance": [],
      "authorship_tag": "ABX9TyP2xzbuTltQEkpZFXc7GkwF",
      "include_colab_link": true
    },
    "kernelspec": {
      "name": "python3",
      "display_name": "Python 3"
    },
    "language_info": {
      "name": "python"
    }
  },
  "cells": [
    {
      "cell_type": "markdown",
      "metadata": {
        "id": "view-in-github",
        "colab_type": "text"
      },
      "source": [
        "<a href=\"https://colab.research.google.com/github/lkkes/Kekkess/blob/main/Language_Identification.ipynb\" target=\"_parent\"><img src=\"https://colab.research.google.com/assets/colab-badge.svg\" alt=\"Open In Colab\"/></a>"
      ]
    },
    {
      "cell_type": "markdown",
      "source": [
        "# Imports"
      ],
      "metadata": {
        "id": "Q3ByQLBETdZ2"
      }
    },
    {
      "cell_type": "code",
      "execution_count": 35,
      "metadata": {
        "id": "NEUJsydVSST3"
      },
      "outputs": [],
      "source": [
        "import nltk\n",
        "import random\n",
        "from sklearn.feature_extraction.text import CountVectorizer\n",
        "from nltk.tokenize import sent_tokenize\n",
        "from sklearn.model_selection import train_test_split\n",
        "from sklearn.naive_bayes import MultinomialNB\n",
        "from sklearn.metrics import accuracy_score"
      ]
    },
    {
      "cell_type": "code",
      "source": [
        "nltk.download('punkt')"
      ],
      "metadata": {
        "colab": {
          "base_uri": "https://localhost:8080/"
        },
        "id": "8JXNmRY8TZbo",
        "outputId": "63ee1d9c-ba71-4e29-d31f-6206202a6909"
      },
      "execution_count": 36,
      "outputs": [
        {
          "output_type": "stream",
          "name": "stderr",
          "text": [
            "[nltk_data] Downloading package punkt to /root/nltk_data...\n",
            "[nltk_data]   Package punkt is already up-to-date!\n"
          ]
        },
        {
          "output_type": "execute_result",
          "data": {
            "text/plain": [
              "True"
            ]
          },
          "metadata": {},
          "execution_count": 36
        }
      ]
    },
    {
      "cell_type": "code",
      "source": [
        "tur = '''\n",
        "Angela Dorothea Merkel (Almanca telaffuz: [aŋˈɡeːla doʁoˈteːa ˈmɛʁkl̩];[a] evlilik öncesi soyadı: Kasner; d. 17 Temmuz 1954), Alman siyasetçi ve devlet insanı. 2002-2005 yılları arasında muhalefet lideri, 2000-2018 yılları arasında Hristiyan Demokrat Birliği lideri ve 2005-2021 yılları arasında Almanya şansölyesi olarak görev yapmıştır.\n",
        "\n",
        "CDU üyesi olan Merkel, Almanya'nın ilk kadın şansölyesidir.[b] Şansölye olarak görev yaptığı süre boyunca Merkel, sık sık Avrupa Birliği'nin de facto lideri ve dünyanın en güçlü kadını olarak anılmıştır.[7][8][9]\n",
        "\n",
        "O zamanlar Batı Almanya'ya bağlı Hamburg'da doğan Merkel, Lüterci bir din adamı olan babası Perleberg'de bir papazlık alıp Doğu Almanya'ya taşındıklarında bebekti. 1986 yılında kuantum kimyası alanında doktora yaptı ve 1989 yılına kadar araştırma bilimcisi olarak çalıştı. Merkel, 1989 Devrimlerinin ardından siyasete girdi ve kısa bir süreliğine Lothar de Maizière liderliğindeki demokratik olarak ilk kez seçilmiş Doğu Almanya Hükûmeti'nin sözcü yardımcısı olarak görev yaptı. 1990 yılında Alman yeniden birleşmesinin ardından Merkel, Mecklenburg-Vorpommern eyaleti için Federal Meclis'e seçildi. Şansölye Helmut Kohl'un himayesindeki Merkel, 1991 yılında Kadınlar ve Gençlik Bakanı olarak atandıktan sonra, 1994 yılında Çevre, Doğa Koruma ve Nükleer Güvenlik Bakanı oldu. CDU'nun 1998 federal seçimlerini kaybetmesinden sonra, CDU Genel Sekreteri seçilerek partinin ilk kadın lideri ve iki yıl sonra Wolfgang Schäuble'yi deviren bir bağış skandalı sonrasında ilk kadın Muhalefet Lideri oldu.\n",
        "\n",
        "2005 federal seçimlerinin ardından Merkel, Gerhard Schröder'in yerine Almanya Şansölyesi olarak atandı ve CDU, Bavyera'daki kardeş partisi Hristiyan Sosyal Birliği (CSU) ve Almanya Sosyal Demokrat Partisi'nden (SPD) oluşan büyük bir koalisyona liderlik etti. Merkel, Şansölye olarak seçilen ilk kadın ve Alman yeniden birleşmesinden bu yana eski Doğu Almanya'dan yetiştirilen ilk Şansölye oldu. 2009 federal seçimlerinde CDU, oyların en büyük payını aldı ve Merkel, Hür Demokratik Parti (FDP) ile bir koalisyon hükûmeti kurmayı başardı.[10] 2013 federal seçimlerinde Merkel'in CDU'su oyların %41,5'ini alarak üstünlük kurdu ve FDP'nin Federal Meclis'teki tüm temsil hakkını kaybetmesinin ardından SPD ile ikinci bir büyük koalisyon kurdu.[11] 2017 federal seçimlerinde Merkel, CDU'nun dördüncü kez en büyük parti seçilmesine öncülük etti ve SPD ile üçüncü bir büyük koalisyon kurdu. 14 Mart 2018 tarihinde Şansölye olarak dördüncü dönemi için yemin etti.[12]\n",
        "\n",
        "Dış politikada Merkel, hem Avrupa Birliği hem de NATO bağlamında uluslararası işbirliğine ve transatlantik ekonomik ilişkilerin güçlendirilmesine vurgu yaptı. 2008 yılında Avrupa Konseyi Başkanı olarak görev yaptı ve Lizbon Antlaşması ile Berlin Deklarasyonu müzakerelerinde merkezî bir rol oynadı. 2007-2008 finansal krizi ve Avrupa borç krizinin yönetiminde önemli bir rol oynadı. Büyük Durgunluğa karşı koymak için altyapı harcamalarına ve kamu yatırımlarına odaklanan 2008 Avrupa Birliği teşvik planını müzakere etti. İç politikada Merkel'in Energiewende programı, Almanya'daki nükleer gücü aşamalı olarak durdurmayı, sera gazı emisyonlarını azaltmayı ve yenilenebilir enerji kaynaklarını artırmayı amaçlayan gelecekteki enerji gelişimine odaklandı. Zorunlu askerliği kaldıran Bundeswehr reformları, sağlık reformu ve hükûmetinin 2010'lardaki Avrupa sığınmacı krizine ve Almanya'da COVID-19 pandemisine verdiği yanıt, şansölyeliği sırasında önemli sorunlardı.[13] 2014 yılından beri (daha önce 2011-2012 yıllarında da yaptı) kıdemli G7 lideri olarak görev yapmaktadır. 2014 yılında Avrupa Birliği'nde en uzun süre görev yapan hükûmet başkanı oldu. Ekim 2018'de Merkel, parti toplantısında CDU liderliğinden çekileceğini ve 2021 federal seçimlerinde Şansölye beşinci dönem adayı olmayacağını açıkladı.[14] Merkel 2022'de Rusya'nın Ukrayna'yı işgalini kınadı.[15]\n",
        "'''"
      ],
      "metadata": {
        "id": "YudOLlMWT2vL"
      },
      "execution_count": 37,
      "outputs": []
    },
    {
      "cell_type": "code",
      "source": [
        "fr = '''\n",
        "Angela Merkel (/ˈaŋɡela ˈmɛʁk(ə)l/a), née Angela Kasner le 17 juillet 1954 à Hambourg, est une femme d'État allemande. Membre de l'Union chrétienne-démocrate (CDU), elle est chancelière fédérale d'Allemagne du 22 novembre 2005 au 8 décembre 2021.\n",
        "\n",
        "Physicienne de formation, elle est continuellement élue au Bundestag depuis 1991. Elle est ministre fédérale des Femmes et de la Jeunesse au sein du cabinet Kohl IV, de 1991 à 1994, avant de se voir confier le ministère fédéral de l'Environnement, de la Protection de la Nature et de la Sécurité nucléaire du cabinet Kohl V, jusqu'en 1998. Elle devient, en 2000, la première femme présidente de la CDU.\n",
        "\n",
        "Après la victoire relative de la droite aux élections fédérales de 2005, elle est investie chancelière fédérale et devient ainsi la première femme à accéder à cette fonction en formant une grande coalition alliant la CDU/CSU et le Parti social-démocrate (SPD). Elle est reconduite dans ses fonctions à la tête d'un gouvernement CDU/CSU-FDP en 2009, puis d'un nouveau gouvernement de coalition CDU/CSU-SPD en 2013 et 2018. Si elle bénéficie de résultats économiques jugés satisfaisants, elle est cependant fragilisée par sa politique d'ouverture des frontières lors de la crise migratoire en Europe et par le score historiquement faible recueilli par la CDU/CSU lors des élections fédérales de 2017. Ces élections débouchent sur une crise politique de six mois – une situation inédite dans l'Allemagne d'après-guerre. Ne se représentant pas aux élections fédérales de 2021, elle quitte la chancellerie, le social-démocrate Olaf Scholz lui succédant.\n",
        "\n",
        "Désignée à quatorze reprises femme la plus puissante du monde par le magazine Forbes (de 2006 à 2020, sauf en 2010), elle est durant ses années au pouvoir perçue comme étant la personnalité politique la plus puissante de l'Union européenne.\n",
        "\n",
        "Angela Dorothea Merkel, née en 1954, est la fille de Horst Kasner (1926-2011), pasteur, et de Herlind Jentzsch (1928-2019), originaire de Prusse-Occidentale, professeure d'anglais et de latin1. Elle a un frère et une sœur cadets, Marcus et Irene. Son père avait étudié la théologie à Heidelberg et à Hambourg.\n",
        "\n",
        "Elle grandit au séminaire de Waldhof, au nord de Berlin. À l'automne 1954, la famille quitte Hambourg pour la République démocratique allemande (RDA)2, car le premier poste de pasteur de Horst Kasner se situe à Quitzow, un petit village près de Perleberg dépendant de l'Église protestante régionale. En 1957, Horst Kasner part pour Templin dans le Brandebourg pour se consacrer à la fondation d'un centre pastoral de formation continue. La même année naît Marcus, le frère d'Angela, puis, sept ans plus tard, sa sœur Irene voit le jour. Enfant, Angela ne va pas à la crèche car sa mère Herlind, qui n'a pas réussi à intégrer le système scolaire de la RDA, est femme au foyer.\n",
        "\n",
        "La religion étant considérée comme le « premier ennemi » de l'État socialiste et du fait de la profession d'Horst Kasner, la famille est d'abord étroitement surveillée. Cependant, devenu proche du régime, il est surnommé « Kasner le Rouge » et jouit de certains privilèges, dont une voiture de fonction et une ligne téléphonique. Le père est ainsi autorisé à se rendre plusieurs fois en Allemagne de l'Ouest et en ramène des livres interdits en RDA. Chose atypique et rare en Allemagne de l'Est, la jeune Angela Kasner porte des jeans importés et regarde des émissions politiques captées de l'Ouest1.\n",
        "'''"
      ],
      "metadata": {
        "id": "zUMsLF8kYf6Z"
      },
      "execution_count": 38,
      "outputs": []
    },
    {
      "cell_type": "markdown",
      "source": [
        "# Mark sentences"
      ],
      "metadata": {
        "id": "fTi5ro7-ZfCu"
      }
    },
    {
      "cell_type": "code",
      "source": [
        "fr_label = [(sentence, 'french') for sentence in sent_tokenize(fr)]"
      ],
      "metadata": {
        "id": "64ECCj5tYyw4"
      },
      "execution_count": 39,
      "outputs": []
    },
    {
      "cell_type": "code",
      "source": [
        "tur_label = [(sentence, 'turkish') for sentence in sent_tokenize(tur)]"
      ],
      "metadata": {
        "id": "b9EWZgqkZA_x"
      },
      "execution_count": 41,
      "outputs": []
    },
    {
      "cell_type": "code",
      "source": [
        "fr_label"
      ],
      "metadata": {
        "colab": {
          "base_uri": "https://localhost:8080/"
        },
        "id": "ja_wNb0WZC7j",
        "outputId": "94c2ad3e-b6e1-4ba1-b3a2-7cd5208e11fa"
      },
      "execution_count": 40,
      "outputs": [
        {
          "output_type": "execute_result",
          "data": {
            "text/plain": [
              "[(\"\\nAngela Merkel (/ˈaŋɡela ˈmɛʁk(ə)l/a), née Angela Kasner le 17 juillet 1954 à Hambourg, est une femme d'État allemande.\",\n",
              "  'french'),\n",
              " (\"Membre de l'Union chrétienne-démocrate (CDU), elle est chancelière fédérale d'Allemagne du 22 novembre 2005 au 8 décembre 2021.\",\n",
              "  'french'),\n",
              " ('Physicienne de formation, elle est continuellement élue au Bundestag depuis 1991.',\n",
              "  'french'),\n",
              " (\"Elle est ministre fédérale des Femmes et de la Jeunesse au sein du cabinet Kohl IV, de 1991 à 1994, avant de se voir confier le ministère fédéral de l'Environnement, de la Protection de la Nature et de la Sécurité nucléaire du cabinet Kohl V, jusqu'en 1998.\",\n",
              "  'french'),\n",
              " ('Elle devient, en 2000, la première femme présidente de la CDU.', 'french'),\n",
              " ('Après la victoire relative de la droite aux élections fédérales de 2005, elle est investie chancelière fédérale et devient ainsi la première femme à accéder à cette fonction en formant une grande coalition alliant la CDU/CSU et le Parti social-démocrate (SPD).',\n",
              "  'french'),\n",
              " (\"Elle est reconduite dans ses fonctions à la tête d'un gouvernement CDU/CSU-FDP en 2009, puis d'un nouveau gouvernement de coalition CDU/CSU-SPD en 2013 et 2018.\",\n",
              "  'french'),\n",
              " (\"Si elle bénéficie de résultats économiques jugés satisfaisants, elle est cependant fragilisée par sa politique d'ouverture des frontières lors de la crise migratoire en Europe et par le score historiquement faible recueilli par la CDU/CSU lors des élections fédérales de 2017.\",\n",
              "  'french'),\n",
              " (\"Ces élections débouchent sur une crise politique de six mois – une situation inédite dans l'Allemagne d'après-guerre.\",\n",
              "  'french'),\n",
              " ('Ne se représentant pas aux élections fédérales de 2021, elle quitte la chancellerie, le social-démocrate Olaf Scholz lui succédant.',\n",
              "  'french'),\n",
              " (\"Désignée à quatorze reprises femme la plus puissante du monde par le magazine Forbes (de 2006 à 2020, sauf en 2010), elle est durant ses années au pouvoir perçue comme étant la personnalité politique la plus puissante de l'Union européenne.\",\n",
              "  'french'),\n",
              " (\"Angela Dorothea Merkel, née en 1954, est la fille de Horst Kasner (1926-2011), pasteur, et de Herlind Jentzsch (1928-2019), originaire de Prusse-Occidentale, professeure d'anglais et de latin1.\",\n",
              "  'french'),\n",
              " ('Elle a un frère et une sœur cadets, Marcus et Irene.', 'french'),\n",
              " ('Son père avait étudié la théologie à Heidelberg et à Hambourg.', 'french'),\n",
              " ('Elle grandit au séminaire de Waldhof, au nord de Berlin.', 'french'),\n",
              " (\"À l'automne 1954, la famille quitte Hambourg pour la République démocratique allemande (RDA)2, car le premier poste de pasteur de Horst Kasner se situe à Quitzow, un petit village près de Perleberg dépendant de l'Église protestante régionale.\",\n",
              "  'french'),\n",
              " (\"En 1957, Horst Kasner part pour Templin dans le Brandebourg pour se consacrer à la fondation d'un centre pastoral de formation continue.\",\n",
              "  'french'),\n",
              " (\"La même année naît Marcus, le frère d'Angela, puis, sept ans plus tard, sa sœur Irene voit le jour.\",\n",
              "  'french'),\n",
              " (\"Enfant, Angela ne va pas à la crèche car sa mère Herlind, qui n'a pas réussi à intégrer le système scolaire de la RDA, est femme au foyer.\",\n",
              "  'french'),\n",
              " (\"La religion étant considérée comme le « premier ennemi » de l'État socialiste et du fait de la profession d'Horst Kasner, la famille est d'abord étroitement surveillée.\",\n",
              "  'french'),\n",
              " ('Cependant, devenu proche du régime, il est surnommé « Kasner le Rouge » et jouit de certains privilèges, dont une voiture de fonction et une ligne téléphonique.',\n",
              "  'french'),\n",
              " (\"Le père est ainsi autorisé à se rendre plusieurs fois en Allemagne de l'Ouest et en ramène des livres interdits en RDA.\",\n",
              "  'french'),\n",
              " (\"Chose atypique et rare en Allemagne de l'Est, la jeune Angela Kasner porte des jeans importés et regarde des émissions politiques captées de l'Ouest1.\",\n",
              "  'french')]"
            ]
          },
          "metadata": {},
          "execution_count": 40
        }
      ]
    },
    {
      "cell_type": "code",
      "source": [
        "tur_label"
      ],
      "metadata": {
        "colab": {
          "base_uri": "https://localhost:8080/"
        },
        "id": "XvjMRlx0ZPE4",
        "outputId": "44e5c0a3-773a-46ee-a8f3-412b9b00aca6"
      },
      "execution_count": 42,
      "outputs": [
        {
          "output_type": "execute_result",
          "data": {
            "text/plain": [
              "[('\\nAngela Dorothea Merkel (Almanca telaffuz: [aŋˈɡeːla doʁoˈteːa ˈmɛʁkl̩];[a] evlilik öncesi soyadı: Kasner; d. 17 Temmuz 1954), Alman siyasetçi ve devlet insanı.',\n",
              "  'turkish'),\n",
              " ('2002-2005 yılları arasında muhalefet lideri, 2000-2018 yılları arasında Hristiyan Demokrat Birliği lideri ve 2005-2021 yılları arasında Almanya şansölyesi olarak görev yapmıştır.',\n",
              "  'turkish'),\n",
              " (\"CDU üyesi olan Merkel, Almanya'nın ilk kadın şansölyesidir.\", 'turkish'),\n",
              " (\"[b] Şansölye olarak görev yaptığı süre boyunca Merkel, sık sık Avrupa Birliği'nin de facto lideri ve dünyanın en güçlü kadını olarak anılmıştır.\",\n",
              "  'turkish'),\n",
              " (\"[7][8][9]\\n\\nO zamanlar Batı Almanya'ya bağlı Hamburg'da doğan Merkel, Lüterci bir din adamı olan babası Perleberg'de bir papazlık alıp Doğu Almanya'ya taşındıklarında bebekti.\",\n",
              "  'turkish'),\n",
              " ('1986 yılında kuantum kimyası alanında doktora yaptı ve 1989 yılına kadar araştırma bilimcisi olarak çalıştı.',\n",
              "  'turkish'),\n",
              " (\"Merkel, 1989 Devrimlerinin ardından siyasete girdi ve kısa bir süreliğine Lothar de Maizière liderliğindeki demokratik olarak ilk kez seçilmiş Doğu Almanya Hükûmeti'nin sözcü yardımcısı olarak görev yaptı.\",\n",
              "  'turkish'),\n",
              " (\"1990 yılında Alman yeniden birleşmesinin ardından Merkel, Mecklenburg-Vorpommern eyaleti için Federal Meclis'e seçildi.\",\n",
              "  'turkish'),\n",
              " (\"Şansölye Helmut Kohl'un himayesindeki Merkel, 1991 yılında Kadınlar ve Gençlik Bakanı olarak atandıktan sonra, 1994 yılında Çevre, Doğa Koruma ve Nükleer Güvenlik Bakanı oldu.\",\n",
              "  'turkish'),\n",
              " (\"CDU'nun 1998 federal seçimlerini kaybetmesinden sonra, CDU Genel Sekreteri seçilerek partinin ilk kadın lideri ve iki yıl sonra Wolfgang Schäuble'yi deviren bir bağış skandalı sonrasında ilk kadın Muhalefet Lideri oldu.\",\n",
              "  'turkish'),\n",
              " (\"2005 federal seçimlerinin ardından Merkel, Gerhard Schröder'in yerine Almanya Şansölyesi olarak atandı ve CDU, Bavyera'daki kardeş partisi Hristiyan Sosyal Birliği (CSU) ve Almanya Sosyal Demokrat Partisi'nden (SPD) oluşan büyük bir koalisyona liderlik etti.\",\n",
              "  'turkish'),\n",
              " (\"Merkel, Şansölye olarak seçilen ilk kadın ve Alman yeniden birleşmesinden bu yana eski Doğu Almanya'dan yetiştirilen ilk Şansölye oldu.\",\n",
              "  'turkish'),\n",
              " ('2009 federal seçimlerinde CDU, oyların en büyük payını aldı ve Merkel, Hür Demokratik Parti (FDP) ile bir koalisyon hükûmeti kurmayı başardı.',\n",
              "  'turkish'),\n",
              " (\"[10] 2013 federal seçimlerinde Merkel'in CDU'su oyların %41,5'ini alarak üstünlük kurdu ve FDP'nin Federal Meclis'teki tüm temsil hakkını kaybetmesinin ardından SPD ile ikinci bir büyük koalisyon kurdu.\",\n",
              "  'turkish'),\n",
              " (\"[11] 2017 federal seçimlerinde Merkel, CDU'nun dördüncü kez en büyük parti seçilmesine öncülük etti ve SPD ile üçüncü bir büyük koalisyon kurdu.\",\n",
              "  'turkish'),\n",
              " ('14 Mart 2018 tarihinde Şansölye olarak dördüncü dönemi için yemin etti.',\n",
              "  'turkish'),\n",
              " ('[12]\\n\\nDış politikada Merkel, hem Avrupa Birliği hem de NATO bağlamında uluslararası işbirliğine ve transatlantik ekonomik ilişkilerin güçlendirilmesine vurgu yaptı.',\n",
              "  'turkish'),\n",
              " ('2008 yılında Avrupa Konseyi Başkanı olarak görev yaptı ve Lizbon Antlaşması ile Berlin Deklarasyonu müzakerelerinde merkezî bir rol oynadı.',\n",
              "  'turkish'),\n",
              " ('2007-2008 finansal krizi ve Avrupa borç krizinin yönetiminde önemli bir rol oynadı.',\n",
              "  'turkish'),\n",
              " ('Büyük Durgunluğa karşı koymak için altyapı harcamalarına ve kamu yatırımlarına odaklanan 2008 Avrupa Birliği teşvik planını müzakere etti.',\n",
              "  'turkish'),\n",
              " (\"İç politikada Merkel'in Energiewende programı, Almanya'daki nükleer gücü aşamalı olarak durdurmayı, sera gazı emisyonlarını azaltmayı ve yenilenebilir enerji kaynaklarını artırmayı amaçlayan gelecekteki enerji gelişimine odaklandı.\",\n",
              "  'turkish'),\n",
              " (\"Zorunlu askerliği kaldıran Bundeswehr reformları, sağlık reformu ve hükûmetinin 2010'lardaki Avrupa sığınmacı krizine ve Almanya'da COVID-19 pandemisine verdiği yanıt, şansölyeliği sırasında önemli sorunlardı.\",\n",
              "  'turkish'),\n",
              " ('[13] 2014 yılından beri (daha önce 2011-2012 yıllarında da yaptı) kıdemli G7 lideri olarak görev yapmaktadır.',\n",
              "  'turkish'),\n",
              " (\"2014 yılında Avrupa Birliği'nde en uzun süre görev yapan hükûmet başkanı oldu.\",\n",
              "  'turkish'),\n",
              " (\"Ekim 2018'de Merkel, parti toplantısında CDU liderliğinden çekileceğini ve 2021 federal seçimlerinde Şansölye beşinci dönem adayı olmayacağını açıkladı.\",\n",
              "  'turkish'),\n",
              " (\"[14] Merkel 2022'de Rusya'nın Ukrayna'yı işgalini kınadı.\", 'turkish'),\n",
              " ('[15]', 'turkish')]"
            ]
          },
          "metadata": {},
          "execution_count": 42
        }
      ]
    },
    {
      "cell_type": "markdown",
      "source": [
        "## Corpus creation"
      ],
      "metadata": {
        "id": "yuOot_cxZnEX"
      }
    },
    {
      "cell_type": "code",
      "source": [
        "corpus = tur_label + fr_label\n",
        "random.shuffle(corpus)"
      ],
      "metadata": {
        "id": "ogYrdjexZTz8"
      },
      "execution_count": 43,
      "outputs": []
    },
    {
      "cell_type": "code",
      "source": [
        "corpus"
      ],
      "metadata": {
        "colab": {
          "base_uri": "https://localhost:8080/"
        },
        "id": "vNnLl0ihZbC4",
        "outputId": "c490c951-0db6-41de-f189-b8bf4c23615a"
      },
      "execution_count": 44,
      "outputs": [
        {
          "output_type": "execute_result",
          "data": {
            "text/plain": [
              "[(\"En 1957, Horst Kasner part pour Templin dans le Brandebourg pour se consacrer à la fondation d'un centre pastoral de formation continue.\",\n",
              "  'french'),\n",
              " ('Ne se représentant pas aux élections fédérales de 2021, elle quitte la chancellerie, le social-démocrate Olaf Scholz lui succédant.',\n",
              "  'french'),\n",
              " (\"Désignée à quatorze reprises femme la plus puissante du monde par le magazine Forbes (de 2006 à 2020, sauf en 2010), elle est durant ses années au pouvoir perçue comme étant la personnalité politique la plus puissante de l'Union européenne.\",\n",
              "  'french'),\n",
              " (\"Ces élections débouchent sur une crise politique de six mois – une situation inédite dans l'Allemagne d'après-guerre.\",\n",
              "  'french'),\n",
              " ('2007-2008 finansal krizi ve Avrupa borç krizinin yönetiminde önemli bir rol oynadı.',\n",
              "  'turkish'),\n",
              " (\"Angela Dorothea Merkel, née en 1954, est la fille de Horst Kasner (1926-2011), pasteur, et de Herlind Jentzsch (1928-2019), originaire de Prusse-Occidentale, professeure d'anglais et de latin1.\",\n",
              "  'french'),\n",
              " (\"[14] Merkel 2022'de Rusya'nın Ukrayna'yı işgalini kınadı.\", 'turkish'),\n",
              " ('Physicienne de formation, elle est continuellement élue au Bundestag depuis 1991.',\n",
              "  'french'),\n",
              " ('\\nAngela Dorothea Merkel (Almanca telaffuz: [aŋˈɡeːla doʁoˈteːa ˈmɛʁkl̩];[a] evlilik öncesi soyadı: Kasner; d. 17 Temmuz 1954), Alman siyasetçi ve devlet insanı.',\n",
              "  'turkish'),\n",
              " (\"Membre de l'Union chrétienne-démocrate (CDU), elle est chancelière fédérale d'Allemagne du 22 novembre 2005 au 8 décembre 2021.\",\n",
              "  'french'),\n",
              " ('Elle devient, en 2000, la première femme présidente de la CDU.', 'french'),\n",
              " (\"[11] 2017 federal seçimlerinde Merkel, CDU'nun dördüncü kez en büyük parti seçilmesine öncülük etti ve SPD ile üçüncü bir büyük koalisyon kurdu.\",\n",
              "  'turkish'),\n",
              " (\"2005 federal seçimlerinin ardından Merkel, Gerhard Schröder'in yerine Almanya Şansölyesi olarak atandı ve CDU, Bavyera'daki kardeş partisi Hristiyan Sosyal Birliği (CSU) ve Almanya Sosyal Demokrat Partisi'nden (SPD) oluşan büyük bir koalisyona liderlik etti.\",\n",
              "  'turkish'),\n",
              " ('Elle grandit au séminaire de Waldhof, au nord de Berlin.', 'french'),\n",
              " ('14 Mart 2018 tarihinde Şansölye olarak dördüncü dönemi için yemin etti.',\n",
              "  'turkish'),\n",
              " (\"À l'automne 1954, la famille quitte Hambourg pour la République démocratique allemande (RDA)2, car le premier poste de pasteur de Horst Kasner se situe à Quitzow, un petit village près de Perleberg dépendant de l'Église protestante régionale.\",\n",
              "  'french'),\n",
              " (\"Zorunlu askerliği kaldıran Bundeswehr reformları, sağlık reformu ve hükûmetinin 2010'lardaki Avrupa sığınmacı krizine ve Almanya'da COVID-19 pandemisine verdiği yanıt, şansölyeliği sırasında önemli sorunlardı.\",\n",
              "  'turkish'),\n",
              " (\"Ekim 2018'de Merkel, parti toplantısında CDU liderliğinden çekileceğini ve 2021 federal seçimlerinde Şansölye beşinci dönem adayı olmayacağını açıkladı.\",\n",
              "  'turkish'),\n",
              " ('2002-2005 yılları arasında muhalefet lideri, 2000-2018 yılları arasında Hristiyan Demokrat Birliği lideri ve 2005-2021 yılları arasında Almanya şansölyesi olarak görev yapmıştır.',\n",
              "  'turkish'),\n",
              " (\"[b] Şansölye olarak görev yaptığı süre boyunca Merkel, sık sık Avrupa Birliği'nin de facto lideri ve dünyanın en güçlü kadını olarak anılmıştır.\",\n",
              "  'turkish'),\n",
              " (\"CDU'nun 1998 federal seçimlerini kaybetmesinden sonra, CDU Genel Sekreteri seçilerek partinin ilk kadın lideri ve iki yıl sonra Wolfgang Schäuble'yi deviren bir bağış skandalı sonrasında ilk kadın Muhalefet Lideri oldu.\",\n",
              "  'turkish'),\n",
              " (\"Elle est ministre fédérale des Femmes et de la Jeunesse au sein du cabinet Kohl IV, de 1991 à 1994, avant de se voir confier le ministère fédéral de l'Environnement, de la Protection de la Nature et de la Sécurité nucléaire du cabinet Kohl V, jusqu'en 1998.\",\n",
              "  'french'),\n",
              " (\"CDU üyesi olan Merkel, Almanya'nın ilk kadın şansölyesidir.\", 'turkish'),\n",
              " (\"Merkel, Şansölye olarak seçilen ilk kadın ve Alman yeniden birleşmesinden bu yana eski Doğu Almanya'dan yetiştirilen ilk Şansölye oldu.\",\n",
              "  'turkish'),\n",
              " ('[12]\\n\\nDış politikada Merkel, hem Avrupa Birliği hem de NATO bağlamında uluslararası işbirliğine ve transatlantik ekonomik ilişkilerin güçlendirilmesine vurgu yaptı.',\n",
              "  'turkish'),\n",
              " ('[15]', 'turkish'),\n",
              " (\"[7][8][9]\\n\\nO zamanlar Batı Almanya'ya bağlı Hamburg'da doğan Merkel, Lüterci bir din adamı olan babası Perleberg'de bir papazlık alıp Doğu Almanya'ya taşındıklarında bebekti.\",\n",
              "  'turkish'),\n",
              " ('[13] 2014 yılından beri (daha önce 2011-2012 yıllarında da yaptı) kıdemli G7 lideri olarak görev yapmaktadır.',\n",
              "  'turkish'),\n",
              " ('Büyük Durgunluğa karşı koymak için altyapı harcamalarına ve kamu yatırımlarına odaklanan 2008 Avrupa Birliği teşvik planını müzakere etti.',\n",
              "  'turkish'),\n",
              " ('Elle a un frère et une sœur cadets, Marcus et Irene.', 'french'),\n",
              " (\"Le père est ainsi autorisé à se rendre plusieurs fois en Allemagne de l'Ouest et en ramène des livres interdits en RDA.\",\n",
              "  'french'),\n",
              " (\"La religion étant considérée comme le « premier ennemi » de l'État socialiste et du fait de la profession d'Horst Kasner, la famille est d'abord étroitement surveillée.\",\n",
              "  'french'),\n",
              " (\"Merkel, 1989 Devrimlerinin ardından siyasete girdi ve kısa bir süreliğine Lothar de Maizière liderliğindeki demokratik olarak ilk kez seçilmiş Doğu Almanya Hükûmeti'nin sözcü yardımcısı olarak görev yaptı.\",\n",
              "  'turkish'),\n",
              " (\"\\nAngela Merkel (/ˈaŋɡela ˈmɛʁk(ə)l/a), née Angela Kasner le 17 juillet 1954 à Hambourg, est une femme d'État allemande.\",\n",
              "  'french'),\n",
              " (\"Enfant, Angela ne va pas à la crèche car sa mère Herlind, qui n'a pas réussi à intégrer le système scolaire de la RDA, est femme au foyer.\",\n",
              "  'french'),\n",
              " ('Cependant, devenu proche du régime, il est surnommé « Kasner le Rouge » et jouit de certains privilèges, dont une voiture de fonction et une ligne téléphonique.',\n",
              "  'french'),\n",
              " (\"2014 yılında Avrupa Birliği'nde en uzun süre görev yapan hükûmet başkanı oldu.\",\n",
              "  'turkish'),\n",
              " ('2009 federal seçimlerinde CDU, oyların en büyük payını aldı ve Merkel, Hür Demokratik Parti (FDP) ile bir koalisyon hükûmeti kurmayı başardı.',\n",
              "  'turkish'),\n",
              " (\"Elle est reconduite dans ses fonctions à la tête d'un gouvernement CDU/CSU-FDP en 2009, puis d'un nouveau gouvernement de coalition CDU/CSU-SPD en 2013 et 2018.\",\n",
              "  'french'),\n",
              " (\"Şansölye Helmut Kohl'un himayesindeki Merkel, 1991 yılında Kadınlar ve Gençlik Bakanı olarak atandıktan sonra, 1994 yılında Çevre, Doğa Koruma ve Nükleer Güvenlik Bakanı oldu.\",\n",
              "  'turkish'),\n",
              " (\"İç politikada Merkel'in Energiewende programı, Almanya'daki nükleer gücü aşamalı olarak durdurmayı, sera gazı emisyonlarını azaltmayı ve yenilenebilir enerji kaynaklarını artırmayı amaçlayan gelecekteki enerji gelişimine odaklandı.\",\n",
              "  'turkish'),\n",
              " ('Après la victoire relative de la droite aux élections fédérales de 2005, elle est investie chancelière fédérale et devient ainsi la première femme à accéder à cette fonction en formant une grande coalition alliant la CDU/CSU et le Parti social-démocrate (SPD).',\n",
              "  'french'),\n",
              " ('Son père avait étudié la théologie à Heidelberg et à Hambourg.', 'french'),\n",
              " (\"1990 yılında Alman yeniden birleşmesinin ardından Merkel, Mecklenburg-Vorpommern eyaleti için Federal Meclis'e seçildi.\",\n",
              "  'turkish'),\n",
              " (\"Si elle bénéficie de résultats économiques jugés satisfaisants, elle est cependant fragilisée par sa politique d'ouverture des frontières lors de la crise migratoire en Europe et par le score historiquement faible recueilli par la CDU/CSU lors des élections fédérales de 2017.\",\n",
              "  'french'),\n",
              " (\"[10] 2013 federal seçimlerinde Merkel'in CDU'su oyların %41,5'ini alarak üstünlük kurdu ve FDP'nin Federal Meclis'teki tüm temsil hakkını kaybetmesinin ardından SPD ile ikinci bir büyük koalisyon kurdu.\",\n",
              "  'turkish'),\n",
              " (\"Chose atypique et rare en Allemagne de l'Est, la jeune Angela Kasner porte des jeans importés et regarde des émissions politiques captées de l'Ouest1.\",\n",
              "  'french'),\n",
              " ('1986 yılında kuantum kimyası alanında doktora yaptı ve 1989 yılına kadar araştırma bilimcisi olarak çalıştı.',\n",
              "  'turkish'),\n",
              " (\"La même année naît Marcus, le frère d'Angela, puis, sept ans plus tard, sa sœur Irene voit le jour.\",\n",
              "  'french'),\n",
              " ('2008 yılında Avrupa Konseyi Başkanı olarak görev yaptı ve Lizbon Antlaşması ile Berlin Deklarasyonu müzakerelerinde merkezî bir rol oynadı.',\n",
              "  'turkish')]"
            ]
          },
          "metadata": {},
          "execution_count": 44
        }
      ]
    },
    {
      "cell_type": "code",
      "source": [
        "sentences, labels = zip(*corpus)"
      ],
      "metadata": {
        "id": "PTYjQz5KZrXw"
      },
      "execution_count": 45,
      "outputs": []
    },
    {
      "cell_type": "code",
      "source": [
        "sentences"
      ],
      "metadata": {
        "colab": {
          "base_uri": "https://localhost:8080/"
        },
        "id": "AoXnmbTXZt09",
        "outputId": "78ef8001-91c7-4d40-ce97-ee240805861a"
      },
      "execution_count": 46,
      "outputs": [
        {
          "output_type": "execute_result",
          "data": {
            "text/plain": [
              "(\"En 1957, Horst Kasner part pour Templin dans le Brandebourg pour se consacrer à la fondation d'un centre pastoral de formation continue.\",\n",
              " 'Ne se représentant pas aux élections fédérales de 2021, elle quitte la chancellerie, le social-démocrate Olaf Scholz lui succédant.',\n",
              " \"Désignée à quatorze reprises femme la plus puissante du monde par le magazine Forbes (de 2006 à 2020, sauf en 2010), elle est durant ses années au pouvoir perçue comme étant la personnalité politique la plus puissante de l'Union européenne.\",\n",
              " \"Ces élections débouchent sur une crise politique de six mois – une situation inédite dans l'Allemagne d'après-guerre.\",\n",
              " '2007-2008 finansal krizi ve Avrupa borç krizinin yönetiminde önemli bir rol oynadı.',\n",
              " \"Angela Dorothea Merkel, née en 1954, est la fille de Horst Kasner (1926-2011), pasteur, et de Herlind Jentzsch (1928-2019), originaire de Prusse-Occidentale, professeure d'anglais et de latin1.\",\n",
              " \"[14] Merkel 2022'de Rusya'nın Ukrayna'yı işgalini kınadı.\",\n",
              " 'Physicienne de formation, elle est continuellement élue au Bundestag depuis 1991.',\n",
              " '\\nAngela Dorothea Merkel (Almanca telaffuz: [aŋˈɡeːla doʁoˈteːa ˈmɛʁkl̩];[a] evlilik öncesi soyadı: Kasner; d. 17 Temmuz 1954), Alman siyasetçi ve devlet insanı.',\n",
              " \"Membre de l'Union chrétienne-démocrate (CDU), elle est chancelière fédérale d'Allemagne du 22 novembre 2005 au 8 décembre 2021.\",\n",
              " 'Elle devient, en 2000, la première femme présidente de la CDU.',\n",
              " \"[11] 2017 federal seçimlerinde Merkel, CDU'nun dördüncü kez en büyük parti seçilmesine öncülük etti ve SPD ile üçüncü bir büyük koalisyon kurdu.\",\n",
              " \"2005 federal seçimlerinin ardından Merkel, Gerhard Schröder'in yerine Almanya Şansölyesi olarak atandı ve CDU, Bavyera'daki kardeş partisi Hristiyan Sosyal Birliği (CSU) ve Almanya Sosyal Demokrat Partisi'nden (SPD) oluşan büyük bir koalisyona liderlik etti.\",\n",
              " 'Elle grandit au séminaire de Waldhof, au nord de Berlin.',\n",
              " '14 Mart 2018 tarihinde Şansölye olarak dördüncü dönemi için yemin etti.',\n",
              " \"À l'automne 1954, la famille quitte Hambourg pour la République démocratique allemande (RDA)2, car le premier poste de pasteur de Horst Kasner se situe à Quitzow, un petit village près de Perleberg dépendant de l'Église protestante régionale.\",\n",
              " \"Zorunlu askerliği kaldıran Bundeswehr reformları, sağlık reformu ve hükûmetinin 2010'lardaki Avrupa sığınmacı krizine ve Almanya'da COVID-19 pandemisine verdiği yanıt, şansölyeliği sırasında önemli sorunlardı.\",\n",
              " \"Ekim 2018'de Merkel, parti toplantısında CDU liderliğinden çekileceğini ve 2021 federal seçimlerinde Şansölye beşinci dönem adayı olmayacağını açıkladı.\",\n",
              " '2002-2005 yılları arasında muhalefet lideri, 2000-2018 yılları arasında Hristiyan Demokrat Birliği lideri ve 2005-2021 yılları arasında Almanya şansölyesi olarak görev yapmıştır.',\n",
              " \"[b] Şansölye olarak görev yaptığı süre boyunca Merkel, sık sık Avrupa Birliği'nin de facto lideri ve dünyanın en güçlü kadını olarak anılmıştır.\",\n",
              " \"CDU'nun 1998 federal seçimlerini kaybetmesinden sonra, CDU Genel Sekreteri seçilerek partinin ilk kadın lideri ve iki yıl sonra Wolfgang Schäuble'yi deviren bir bağış skandalı sonrasında ilk kadın Muhalefet Lideri oldu.\",\n",
              " \"Elle est ministre fédérale des Femmes et de la Jeunesse au sein du cabinet Kohl IV, de 1991 à 1994, avant de se voir confier le ministère fédéral de l'Environnement, de la Protection de la Nature et de la Sécurité nucléaire du cabinet Kohl V, jusqu'en 1998.\",\n",
              " \"CDU üyesi olan Merkel, Almanya'nın ilk kadın şansölyesidir.\",\n",
              " \"Merkel, Şansölye olarak seçilen ilk kadın ve Alman yeniden birleşmesinden bu yana eski Doğu Almanya'dan yetiştirilen ilk Şansölye oldu.\",\n",
              " '[12]\\n\\nDış politikada Merkel, hem Avrupa Birliği hem de NATO bağlamında uluslararası işbirliğine ve transatlantik ekonomik ilişkilerin güçlendirilmesine vurgu yaptı.',\n",
              " '[15]',\n",
              " \"[7][8][9]\\n\\nO zamanlar Batı Almanya'ya bağlı Hamburg'da doğan Merkel, Lüterci bir din adamı olan babası Perleberg'de bir papazlık alıp Doğu Almanya'ya taşındıklarında bebekti.\",\n",
              " '[13] 2014 yılından beri (daha önce 2011-2012 yıllarında da yaptı) kıdemli G7 lideri olarak görev yapmaktadır.',\n",
              " 'Büyük Durgunluğa karşı koymak için altyapı harcamalarına ve kamu yatırımlarına odaklanan 2008 Avrupa Birliği teşvik planını müzakere etti.',\n",
              " 'Elle a un frère et une sœur cadets, Marcus et Irene.',\n",
              " \"Le père est ainsi autorisé à se rendre plusieurs fois en Allemagne de l'Ouest et en ramène des livres interdits en RDA.\",\n",
              " \"La religion étant considérée comme le « premier ennemi » de l'État socialiste et du fait de la profession d'Horst Kasner, la famille est d'abord étroitement surveillée.\",\n",
              " \"Merkel, 1989 Devrimlerinin ardından siyasete girdi ve kısa bir süreliğine Lothar de Maizière liderliğindeki demokratik olarak ilk kez seçilmiş Doğu Almanya Hükûmeti'nin sözcü yardımcısı olarak görev yaptı.\",\n",
              " \"\\nAngela Merkel (/ˈaŋɡela ˈmɛʁk(ə)l/a), née Angela Kasner le 17 juillet 1954 à Hambourg, est une femme d'État allemande.\",\n",
              " \"Enfant, Angela ne va pas à la crèche car sa mère Herlind, qui n'a pas réussi à intégrer le système scolaire de la RDA, est femme au foyer.\",\n",
              " 'Cependant, devenu proche du régime, il est surnommé « Kasner le Rouge » et jouit de certains privilèges, dont une voiture de fonction et une ligne téléphonique.',\n",
              " \"2014 yılında Avrupa Birliği'nde en uzun süre görev yapan hükûmet başkanı oldu.\",\n",
              " '2009 federal seçimlerinde CDU, oyların en büyük payını aldı ve Merkel, Hür Demokratik Parti (FDP) ile bir koalisyon hükûmeti kurmayı başardı.',\n",
              " \"Elle est reconduite dans ses fonctions à la tête d'un gouvernement CDU/CSU-FDP en 2009, puis d'un nouveau gouvernement de coalition CDU/CSU-SPD en 2013 et 2018.\",\n",
              " \"Şansölye Helmut Kohl'un himayesindeki Merkel, 1991 yılında Kadınlar ve Gençlik Bakanı olarak atandıktan sonra, 1994 yılında Çevre, Doğa Koruma ve Nükleer Güvenlik Bakanı oldu.\",\n",
              " \"İç politikada Merkel'in Energiewende programı, Almanya'daki nükleer gücü aşamalı olarak durdurmayı, sera gazı emisyonlarını azaltmayı ve yenilenebilir enerji kaynaklarını artırmayı amaçlayan gelecekteki enerji gelişimine odaklandı.\",\n",
              " 'Après la victoire relative de la droite aux élections fédérales de 2005, elle est investie chancelière fédérale et devient ainsi la première femme à accéder à cette fonction en formant une grande coalition alliant la CDU/CSU et le Parti social-démocrate (SPD).',\n",
              " 'Son père avait étudié la théologie à Heidelberg et à Hambourg.',\n",
              " \"1990 yılında Alman yeniden birleşmesinin ardından Merkel, Mecklenburg-Vorpommern eyaleti için Federal Meclis'e seçildi.\",\n",
              " \"Si elle bénéficie de résultats économiques jugés satisfaisants, elle est cependant fragilisée par sa politique d'ouverture des frontières lors de la crise migratoire en Europe et par le score historiquement faible recueilli par la CDU/CSU lors des élections fédérales de 2017.\",\n",
              " \"[10] 2013 federal seçimlerinde Merkel'in CDU'su oyların %41,5'ini alarak üstünlük kurdu ve FDP'nin Federal Meclis'teki tüm temsil hakkını kaybetmesinin ardından SPD ile ikinci bir büyük koalisyon kurdu.\",\n",
              " \"Chose atypique et rare en Allemagne de l'Est, la jeune Angela Kasner porte des jeans importés et regarde des émissions politiques captées de l'Ouest1.\",\n",
              " '1986 yılında kuantum kimyası alanında doktora yaptı ve 1989 yılına kadar araştırma bilimcisi olarak çalıştı.',\n",
              " \"La même année naît Marcus, le frère d'Angela, puis, sept ans plus tard, sa sœur Irene voit le jour.\",\n",
              " '2008 yılında Avrupa Konseyi Başkanı olarak görev yaptı ve Lizbon Antlaşması ile Berlin Deklarasyonu müzakerelerinde merkezî bir rol oynadı.')"
            ]
          },
          "metadata": {},
          "execution_count": 46
        }
      ]
    },
    {
      "cell_type": "code",
      "source": [
        "labels"
      ],
      "metadata": {
        "colab": {
          "base_uri": "https://localhost:8080/"
        },
        "id": "2NWRqsbcZwYJ",
        "outputId": "88d2543a-2a29-4d35-bcd3-4f040acb161c"
      },
      "execution_count": 47,
      "outputs": [
        {
          "output_type": "execute_result",
          "data": {
            "text/plain": [
              "('french',\n",
              " 'french',\n",
              " 'french',\n",
              " 'french',\n",
              " 'turkish',\n",
              " 'french',\n",
              " 'turkish',\n",
              " 'french',\n",
              " 'turkish',\n",
              " 'french',\n",
              " 'french',\n",
              " 'turkish',\n",
              " 'turkish',\n",
              " 'french',\n",
              " 'turkish',\n",
              " 'french',\n",
              " 'turkish',\n",
              " 'turkish',\n",
              " 'turkish',\n",
              " 'turkish',\n",
              " 'turkish',\n",
              " 'french',\n",
              " 'turkish',\n",
              " 'turkish',\n",
              " 'turkish',\n",
              " 'turkish',\n",
              " 'turkish',\n",
              " 'turkish',\n",
              " 'turkish',\n",
              " 'french',\n",
              " 'french',\n",
              " 'french',\n",
              " 'turkish',\n",
              " 'french',\n",
              " 'french',\n",
              " 'french',\n",
              " 'turkish',\n",
              " 'turkish',\n",
              " 'french',\n",
              " 'turkish',\n",
              " 'turkish',\n",
              " 'french',\n",
              " 'french',\n",
              " 'turkish',\n",
              " 'french',\n",
              " 'turkish',\n",
              " 'french',\n",
              " 'turkish',\n",
              " 'french',\n",
              " 'turkish')"
            ]
          },
          "metadata": {},
          "execution_count": 47
        }
      ]
    },
    {
      "cell_type": "markdown",
      "source": [
        "# Applying vectorizer"
      ],
      "metadata": {
        "id": "lwC6L4ZmaA7o"
      }
    },
    {
      "cell_type": "code",
      "source": [
        "vectorizer = CountVectorizer(analyzer='char', ngram_range=(3,3))"
      ],
      "metadata": {
        "id": "BeyPt_pdZ3sB"
      },
      "execution_count": 48,
      "outputs": []
    },
    {
      "cell_type": "code",
      "source": [
        "X = vectorizer.fit_transform(sentences)"
      ],
      "metadata": {
        "id": "sF2N3QfcZ7ez"
      },
      "execution_count": 49,
      "outputs": []
    },
    {
      "cell_type": "markdown",
      "source": [
        "# Training model"
      ],
      "metadata": {
        "id": "A46yIqOUaJCV"
      }
    },
    {
      "cell_type": "code",
      "source": [
        "X_train, X_test, y_train, y_test = train_test_split(X, labels, test_size=0.1, random_state=42)"
      ],
      "metadata": {
        "id": "loVgXNuOZ843"
      },
      "execution_count": 50,
      "outputs": []
    },
    {
      "cell_type": "code",
      "source": [
        "X_train"
      ],
      "metadata": {
        "colab": {
          "base_uri": "https://localhost:8080/"
        },
        "id": "FX7xWHFiZ9bi",
        "outputId": "5f4c2cff-d7d6-493a-cb49-d7db55667c8e"
      },
      "execution_count": 51,
      "outputs": [
        {
          "output_type": "execute_result",
          "data": {
            "text/plain": [
              "<45x2358 sparse matrix of type '<class 'numpy.int64'>'\n",
              "\twith 5625 stored elements in Compressed Sparse Row format>"
            ]
          },
          "metadata": {},
          "execution_count": 51
        }
      ]
    },
    {
      "cell_type": "code",
      "source": [
        "model = MultinomialNB()"
      ],
      "metadata": {
        "id": "n-5OsEFraEhK"
      },
      "execution_count": 52,
      "outputs": []
    },
    {
      "cell_type": "code",
      "source": [
        "model.fit(X_train, y_train)"
      ],
      "metadata": {
        "colab": {
          "base_uri": "https://localhost:8080/",
          "height": 74
        },
        "id": "ornv6-r7aG0Q",
        "outputId": "1de2cdbb-ee32-4307-bd14-cc615f28b1d2"
      },
      "execution_count": 53,
      "outputs": [
        {
          "output_type": "execute_result",
          "data": {
            "text/plain": [
              "MultinomialNB()"
            ],
            "text/html": [
              "<style>#sk-container-id-1 {color: black;background-color: white;}#sk-container-id-1 pre{padding: 0;}#sk-container-id-1 div.sk-toggleable {background-color: white;}#sk-container-id-1 label.sk-toggleable__label {cursor: pointer;display: block;width: 100%;margin-bottom: 0;padding: 0.3em;box-sizing: border-box;text-align: center;}#sk-container-id-1 label.sk-toggleable__label-arrow:before {content: \"▸\";float: left;margin-right: 0.25em;color: #696969;}#sk-container-id-1 label.sk-toggleable__label-arrow:hover:before {color: black;}#sk-container-id-1 div.sk-estimator:hover label.sk-toggleable__label-arrow:before {color: black;}#sk-container-id-1 div.sk-toggleable__content {max-height: 0;max-width: 0;overflow: hidden;text-align: left;background-color: #f0f8ff;}#sk-container-id-1 div.sk-toggleable__content pre {margin: 0.2em;color: black;border-radius: 0.25em;background-color: #f0f8ff;}#sk-container-id-1 input.sk-toggleable__control:checked~div.sk-toggleable__content {max-height: 200px;max-width: 100%;overflow: auto;}#sk-container-id-1 input.sk-toggleable__control:checked~label.sk-toggleable__label-arrow:before {content: \"▾\";}#sk-container-id-1 div.sk-estimator input.sk-toggleable__control:checked~label.sk-toggleable__label {background-color: #d4ebff;}#sk-container-id-1 div.sk-label input.sk-toggleable__control:checked~label.sk-toggleable__label {background-color: #d4ebff;}#sk-container-id-1 input.sk-hidden--visually {border: 0;clip: rect(1px 1px 1px 1px);clip: rect(1px, 1px, 1px, 1px);height: 1px;margin: -1px;overflow: hidden;padding: 0;position: absolute;width: 1px;}#sk-container-id-1 div.sk-estimator {font-family: monospace;background-color: #f0f8ff;border: 1px dotted black;border-radius: 0.25em;box-sizing: border-box;margin-bottom: 0.5em;}#sk-container-id-1 div.sk-estimator:hover {background-color: #d4ebff;}#sk-container-id-1 div.sk-parallel-item::after {content: \"\";width: 100%;border-bottom: 1px solid gray;flex-grow: 1;}#sk-container-id-1 div.sk-label:hover label.sk-toggleable__label {background-color: #d4ebff;}#sk-container-id-1 div.sk-serial::before {content: \"\";position: absolute;border-left: 1px solid gray;box-sizing: border-box;top: 0;bottom: 0;left: 50%;z-index: 0;}#sk-container-id-1 div.sk-serial {display: flex;flex-direction: column;align-items: center;background-color: white;padding-right: 0.2em;padding-left: 0.2em;position: relative;}#sk-container-id-1 div.sk-item {position: relative;z-index: 1;}#sk-container-id-1 div.sk-parallel {display: flex;align-items: stretch;justify-content: center;background-color: white;position: relative;}#sk-container-id-1 div.sk-item::before, #sk-container-id-1 div.sk-parallel-item::before {content: \"\";position: absolute;border-left: 1px solid gray;box-sizing: border-box;top: 0;bottom: 0;left: 50%;z-index: -1;}#sk-container-id-1 div.sk-parallel-item {display: flex;flex-direction: column;z-index: 1;position: relative;background-color: white;}#sk-container-id-1 div.sk-parallel-item:first-child::after {align-self: flex-end;width: 50%;}#sk-container-id-1 div.sk-parallel-item:last-child::after {align-self: flex-start;width: 50%;}#sk-container-id-1 div.sk-parallel-item:only-child::after {width: 0;}#sk-container-id-1 div.sk-dashed-wrapped {border: 1px dashed gray;margin: 0 0.4em 0.5em 0.4em;box-sizing: border-box;padding-bottom: 0.4em;background-color: white;}#sk-container-id-1 div.sk-label label {font-family: monospace;font-weight: bold;display: inline-block;line-height: 1.2em;}#sk-container-id-1 div.sk-label-container {text-align: center;}#sk-container-id-1 div.sk-container {/* jupyter's `normalize.less` sets `[hidden] { display: none; }` but bootstrap.min.css set `[hidden] { display: none !important; }` so we also need the `!important` here to be able to override the default hidden behavior on the sphinx rendered scikit-learn.org. See: https://github.com/scikit-learn/scikit-learn/issues/21755 */display: inline-block !important;position: relative;}#sk-container-id-1 div.sk-text-repr-fallback {display: none;}</style><div id=\"sk-container-id-1\" class=\"sk-top-container\"><div class=\"sk-text-repr-fallback\"><pre>MultinomialNB()</pre><b>In a Jupyter environment, please rerun this cell to show the HTML representation or trust the notebook. <br />On GitHub, the HTML representation is unable to render, please try loading this page with nbviewer.org.</b></div><div class=\"sk-container\" hidden><div class=\"sk-item\"><div class=\"sk-estimator sk-toggleable\"><input class=\"sk-toggleable__control sk-hidden--visually\" id=\"sk-estimator-id-1\" type=\"checkbox\" checked><label for=\"sk-estimator-id-1\" class=\"sk-toggleable__label sk-toggleable__label-arrow\">MultinomialNB</label><div class=\"sk-toggleable__content\"><pre>MultinomialNB()</pre></div></div></div></div></div>"
            ]
          },
          "metadata": {},
          "execution_count": 53
        }
      ]
    },
    {
      "cell_type": "code",
      "source": [
        "y_pred = model.predict(X_test)"
      ],
      "metadata": {
        "id": "BF3jH1S1awgW"
      },
      "execution_count": 54,
      "outputs": []
    },
    {
      "cell_type": "code",
      "source": [
        "y_pred"
      ],
      "metadata": {
        "colab": {
          "base_uri": "https://localhost:8080/"
        },
        "id": "sGkgB34nbo0S",
        "outputId": "681f25be-c7d4-48d3-cd48-cdba1643c205"
      },
      "execution_count": 55,
      "outputs": [
        {
          "output_type": "execute_result",
          "data": {
            "text/plain": [
              "array(['french', 'turkish', 'french', 'turkish', 'turkish'], dtype='<U7')"
            ]
          },
          "metadata": {},
          "execution_count": 55
        }
      ]
    },
    {
      "cell_type": "code",
      "source": [
        "accuracy_score(y_test, y_pred)"
      ],
      "metadata": {
        "colab": {
          "base_uri": "https://localhost:8080/"
        },
        "id": "yEp8Qsb5bmvO",
        "outputId": "86a529cf-5f57-4a9a-9dbe-31df80729eb4"
      },
      "execution_count": 56,
      "outputs": [
        {
          "output_type": "execute_result",
          "data": {
            "text/plain": [
              "1.0"
            ]
          },
          "metadata": {},
          "execution_count": 56
        }
      ]
    },
    {
      "cell_type": "markdown",
      "source": [
        "# Testing code"
      ],
      "metadata": {
        "id": "9nLimBTnekPE"
      }
    },
    {
      "cell_type": "code",
      "source": [
        "new_data = [\"Scholz, Almanya daki ana akım Protestan Evanjelik Kilisesi'nde yetişmiş ancak daha sonra bu kiliseden ayrılmıştır.[2] 2021 yılında Şansölye olarak göreve başlarken, Scholz Tanrı'ya atıfta bulunmadan yemin etmiştir (Gerhard Schröder'den sonra bunu yapan ikinci Şansölye) ve Federal Almanya Cumhuriyeti'nin bir kiliseye mensup olmayan ilk Şansölyesidir.\",\n",
        "            \"Olaf Scholz est marié depuis 1998 avec Britta Ernst, ministre de l'Éducation du Schleswig-Holstein entre 2014 et 2017 et depuis 2018 ministre de l'Éducation du Brandebourg. Ils résident à Potsdam depuis 2018.\"\n",
        "            ]\n",
        "X_new = vectorizer.transform(new_data)\n",
        "\n",
        "model.predict(X_new)"
      ],
      "metadata": {
        "colab": {
          "base_uri": "https://localhost:8080/"
        },
        "id": "3kd5790Hb2AB",
        "outputId": "c1e9ab1c-d5fe-4ddc-cad4-c6a5a391cc58"
      },
      "execution_count": 61,
      "outputs": [
        {
          "output_type": "execute_result",
          "data": {
            "text/plain": [
              "array(['turkish', 'french'], dtype='<U7')"
            ]
          },
          "metadata": {},
          "execution_count": 61
        }
      ]
    }
  ]
}